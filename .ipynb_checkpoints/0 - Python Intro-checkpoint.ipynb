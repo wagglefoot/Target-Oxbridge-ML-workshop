{
 "cells": [
  {
   "cell_type": "markdown",
   "metadata": {},
   "source": [
    "Python\n",
    "======"
   ]
  },
  {
   "cell_type": "code",
   "execution_count": 2,
   "metadata": {
    "collapsed": false
   },
   "outputs": [
    {
     "name": "stdout",
     "output_type": "stream",
     "text": [
      "Hello World\n"
     ]
    }
   ],
   "source": [
    "print(\"Hello World\")"
   ]
  },
  {
   "cell_type": "code",
   "execution_count": 3,
   "metadata": {
    "collapsed": false
   },
   "outputs": [
    {
     "name": "stdout",
     "output_type": "stream",
     "text": [
      "1 3\n"
     ]
    }
   ],
   "source": [
    "x = 1\n",
    "y = x + 2\n",
    "print x, y"
   ]
  },
  {
   "cell_type": "markdown",
   "metadata": {},
   "source": [
    "Libraries\n",
    "=========\n",
    "NumPy\n",
    "-----\n",
    "\n",
    "The **NumPy** library provides multi-dimensional arrays (e.g. vectors, matrices, ...)\n",
    "\n",
    "NumPy is usually referred to using the shorthand module name `np`:"
   ]
  },
  {
   "cell_type": "code",
   "execution_count": 4,
   "metadata": {
    "collapsed": false
   },
   "outputs": [],
   "source": [
    "import numpy as np"
   ]
  },
  {
   "cell_type": "code",
   "execution_count": 5,
   "metadata": {
    "collapsed": false
   },
   "outputs": [
    {
     "name": "stdout",
     "output_type": "stream",
     "text": [
      "v:\n",
      "[ 0.  0.  0.]\n",
      "M:\n",
      "[[ 1.  1.  1.  1.]\n",
      " [ 1.  1.  1.  1.]\n",
      " [ 1.  1.  1.  1.]]\n",
      "A:\n",
      "[[1 2 3]\n",
      " [4 5 6]]\n"
     ]
    }
   ],
   "source": [
    "v = np.zeros(3)\n",
    "M = np.ones((3,4))\n",
    "A = np.array([[1,2,3],[4,5,6]]) \n",
    "print \"v:\\n\", v\n",
    "print \"M:\\n\", M\n",
    "print \"A:\\n\", A"
   ]
  },
  {
   "cell_type": "markdown",
   "metadata": {},
   "source": [
    "You can also work with sub-matrices in a similar fashion as in MatLab, but starting with index 0:"
   ]
  },
  {
   "cell_type": "code",
   "execution_count": 6,
   "metadata": {
    "collapsed": false
   },
   "outputs": [
    {
     "name": "stdout",
     "output_type": "stream",
     "text": [
      "[[1 2 3]\n",
      " [4 5 6]]\n",
      "the first column of A: [1 4]\n",
      "the first    row of A: [1 2 3]\n"
     ]
    }
   ],
   "source": [
    "print A\n",
    "print \"the first column of A:\", A[:,0]\n",
    "print \"the first    row of A:\", A[0,:]"
   ]
  },
  {
   "cell_type": "code",
   "execution_count": 15,
   "metadata": {
    "collapsed": false
   },
   "outputs": [
    {
     "name": "stdout",
     "output_type": "stream",
     "text": [
      "[0 1 2 3 4 5 6 7 8 9]\n"
     ]
    }
   ],
   "source": [
    "x = np.arange(10)\n",
    "print x"
   ]
  },
  {
   "cell_type": "code",
   "execution_count": 14,
   "metadata": {
    "collapsed": false
   },
   "outputs": [
    {
     "data": {
      "text/plain": [
       "array([ 0.57024857,  0.83839801,  0.1459181 ,  0.11693026,  0.45873099,\n",
       "        0.00400753,  0.15572771,  0.83239719,  0.07637086,  0.55143089])"
      ]
     },
     "execution_count": 14,
     "metadata": {},
     "output_type": "execute_result"
    }
   ],
   "source": [
    "y = np.random.uniform(size=10) # note the named argument here. The 1st (default) arguments are 0 and 1.\n",
    "y # last element in cell is printed automatically"
   ]
  },
  {
   "cell_type": "markdown",
   "metadata": {},
   "source": [
    "Matplotlib\n",
    "----------\n",
    "\n",
    "This is a library used to plot graphs conveniently directly from Python. Many graph types are supported.\n"
   ]
  },
  {
   "cell_type": "code",
   "execution_count": 12,
   "metadata": {
    "collapsed": false
   },
   "outputs": [],
   "source": [
    "import matplotlib.pyplot as plt"
   ]
  },
  {
   "cell_type": "code",
   "execution_count": 10,
   "metadata": {
    "collapsed": false
   },
   "outputs": [
    {
     "data": {
      "text/html": [
       "<iframe src=http://matplotlib.org/gallery.html width=900 height=500></iframe>"
      ],
      "text/plain": [
       "<IPython.core.display.HTML object>"
      ]
     },
     "execution_count": 10,
     "metadata": {},
     "output_type": "execute_result"
    }
   ],
   "source": [
    "from IPython.display import HTML\n",
    "HTML('<iframe src=http://matplotlib.org/gallery.html width=900 height=500></iframe>')"
   ]
  },
  {
   "cell_type": "code",
   "execution_count": 10,
   "metadata": {
    "collapsed": false
   },
   "outputs": [
    {
     "data": {
      "image/png": "[encoded data removed]"
     },
     "metadata": {},
     "output_type": "display_data"
    }
   ],
   "source": [
    "plt.plot(x, y)\n",
    "plt.title(\"Sample Plot\")\n",
    "plt.xlabel(\"x label\")\n",
    "plt.ylabel(\"y label\");"
   ]
  },
  {
   "cell_type": "code",
   "execution_count": 17,
   "metadata": {
    "collapsed": false
   },
   "outputs": [
    {
     "data": {
      "image/png": "[encoded data removed]",
      "text/plain": [
       "<matplotlib.figure.Figure at 0x104808cd0>"
      ]
     },
     "metadata": {},
     "output_type": "display_data"
    }
   ],
   "source": [
    "plt.scatter(x, y, s=100)\n",
    "plt.show()"
   ]
  },
  {
   "cell_type": "markdown",
   "metadata": {},
   "source": [
    "## Scikit-Learn"
   ]
  },
  {
   "cell_type": "code",
   "execution_count": 18,
   "metadata": {
    "collapsed": false
   },
   "outputs": [
    {
     "data": {
      "text/html": [
       "<iframe src=http://scikit-learn.sourceforge.net/dev/auto_examples/index.html width=900 height=350></iframe>"
      ],
      "text/plain": [
       "<IPython.core.display.HTML object>"
      ]
     },
     "execution_count": 18,
     "metadata": {},
     "output_type": "execute_result"
    }
   ],
   "source": [
    "from IPython.display import HTML\n",
    "HTML('<iframe src=http://scikit-learn.sourceforge.net/dev/auto_examples/index.html width=900 height=350></iframe>')"
   ]
  },
  {
   "cell_type": "markdown",
   "metadata": {},
   "source": [
    "Easy-to use machine-learning with many examples and documentation.\n",
    "\n",
    "\n",
    "Classification\n",
    "--------------\n",
    "- **Logistic Regression**\n",
    "- Support Vector Machines\n",
    "- Perceptron\n",
    "- Decision Trees\n",
    "- Random Forests\n",
    "- Naive Bayes\n",
    "- **Neares Neighbors**\n",
    "- ...\n",
    "\n",
    "Regression\n",
    "----------\n",
    "- **Linear Regression**\n",
    "- Lasso\n",
    "- Lars\n",
    "- Ridge Regression\n",
    "- Support Vector Regression\n",
    "- Regression Forests\n",
    "- ...\n",
    "\n",
    "Feature Extraction\n",
    "------------------\n",
    "- **Principal Component Analysis**\n",
    "- Independend Component Analysis\n",
    "- Nonnegative Matrix Factorization\n",
    "- Sparse Decomposition\n",
    "- Locally Linear Embedding\n",
    "- KernelPCA\n",
    "- ...\n",
    "\n",
    "Clustering\n",
    "----------\n",
    "- **$k$-Means**\n",
    "- Mean Shift\n",
    "- Spectral Clustering\n",
    "- Affinity Propagation\n",
    "- DBSCAN\n",
    "- ...\n"
   ]
  }
 ],
 "metadata": {
  "kernelspec": {
   "display_name": "Python 2",
   "language": "python",
   "name": "python2"
  },
  "language_info": {
   "codemirror_mode": {
    "name": "ipython",
    "version": 2
   },
   "file_extension": ".py",
   "mimetype": "text/x-python",
   "name": "python",
   "nbconvert_exporter": "python",
   "pygments_lexer": "ipython2",
   "version": "2.7.12"
  }
 },
 "nbformat": 4,
 "nbformat_minor": 0
}
